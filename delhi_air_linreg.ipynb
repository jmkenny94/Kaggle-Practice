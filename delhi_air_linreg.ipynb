{
 "cells": [
  {
   "cell_type": "code",
   "execution_count": 22,
   "metadata": {},
   "outputs": [],
   "source": [
    "import numpy as np\n",
    "import pandas as pd\n",
    "import matplotlib\n",
    "import seaborn as sns\n",
    "from datetime import datetime\n",
    "from sklearn import linear_model"
   ]
  },
  {
   "cell_type": "code",
   "execution_count": 4,
   "metadata": {},
   "outputs": [],
   "source": [
    "df = pd.read_csv('delhi_aqi.csv')"
   ]
  },
  {
   "cell_type": "code",
   "execution_count": 5,
   "metadata": {},
   "outputs": [
    {
     "data": {
      "text/html": [
       "<div>\n",
       "<style scoped>\n",
       "    .dataframe tbody tr th:only-of-type {\n",
       "        vertical-align: middle;\n",
       "    }\n",
       "\n",
       "    .dataframe tbody tr th {\n",
       "        vertical-align: top;\n",
       "    }\n",
       "\n",
       "    .dataframe thead th {\n",
       "        text-align: right;\n",
       "    }\n",
       "</style>\n",
       "<table border=\"1\" class=\"dataframe\">\n",
       "  <thead>\n",
       "    <tr style=\"text-align: right;\">\n",
       "      <th></th>\n",
       "      <th>date</th>\n",
       "      <th>co</th>\n",
       "      <th>no</th>\n",
       "      <th>no2</th>\n",
       "      <th>o3</th>\n",
       "      <th>so2</th>\n",
       "      <th>pm2_5</th>\n",
       "      <th>pm10</th>\n",
       "      <th>nh3</th>\n",
       "    </tr>\n",
       "  </thead>\n",
       "  <tbody>\n",
       "    <tr>\n",
       "      <th>0</th>\n",
       "      <td>2020-11-25 01:00:00</td>\n",
       "      <td>2616.88</td>\n",
       "      <td>2.18</td>\n",
       "      <td>70.60</td>\n",
       "      <td>13.59</td>\n",
       "      <td>38.62</td>\n",
       "      <td>364.61</td>\n",
       "      <td>411.73</td>\n",
       "      <td>28.63</td>\n",
       "    </tr>\n",
       "    <tr>\n",
       "      <th>1</th>\n",
       "      <td>2020-11-25 02:00:00</td>\n",
       "      <td>3631.59</td>\n",
       "      <td>23.25</td>\n",
       "      <td>89.11</td>\n",
       "      <td>0.33</td>\n",
       "      <td>54.36</td>\n",
       "      <td>420.96</td>\n",
       "      <td>486.21</td>\n",
       "      <td>41.04</td>\n",
       "    </tr>\n",
       "    <tr>\n",
       "      <th>2</th>\n",
       "      <td>2020-11-25 03:00:00</td>\n",
       "      <td>4539.49</td>\n",
       "      <td>52.75</td>\n",
       "      <td>100.08</td>\n",
       "      <td>1.11</td>\n",
       "      <td>68.67</td>\n",
       "      <td>463.68</td>\n",
       "      <td>541.95</td>\n",
       "      <td>49.14</td>\n",
       "    </tr>\n",
       "    <tr>\n",
       "      <th>3</th>\n",
       "      <td>2020-11-25 04:00:00</td>\n",
       "      <td>4539.49</td>\n",
       "      <td>50.96</td>\n",
       "      <td>111.04</td>\n",
       "      <td>6.44</td>\n",
       "      <td>78.20</td>\n",
       "      <td>454.81</td>\n",
       "      <td>534.00</td>\n",
       "      <td>48.13</td>\n",
       "    </tr>\n",
       "    <tr>\n",
       "      <th>4</th>\n",
       "      <td>2020-11-25 05:00:00</td>\n",
       "      <td>4379.27</td>\n",
       "      <td>42.92</td>\n",
       "      <td>117.90</td>\n",
       "      <td>17.17</td>\n",
       "      <td>87.74</td>\n",
       "      <td>448.14</td>\n",
       "      <td>529.19</td>\n",
       "      <td>46.61</td>\n",
       "    </tr>\n",
       "  </tbody>\n",
       "</table>\n",
       "</div>"
      ],
      "text/plain": [
       "                  date       co     no     no2     o3    so2   pm2_5    pm10  \\\n",
       "0  2020-11-25 01:00:00  2616.88   2.18   70.60  13.59  38.62  364.61  411.73   \n",
       "1  2020-11-25 02:00:00  3631.59  23.25   89.11   0.33  54.36  420.96  486.21   \n",
       "2  2020-11-25 03:00:00  4539.49  52.75  100.08   1.11  68.67  463.68  541.95   \n",
       "3  2020-11-25 04:00:00  4539.49  50.96  111.04   6.44  78.20  454.81  534.00   \n",
       "4  2020-11-25 05:00:00  4379.27  42.92  117.90  17.17  87.74  448.14  529.19   \n",
       "\n",
       "     nh3  \n",
       "0  28.63  \n",
       "1  41.04  \n",
       "2  49.14  \n",
       "3  48.13  \n",
       "4  46.61  "
      ]
     },
     "execution_count": 5,
     "metadata": {},
     "output_type": "execute_result"
    }
   ],
   "source": [
    "df.head()"
   ]
  },
  {
   "cell_type": "code",
   "execution_count": 8,
   "metadata": {},
   "outputs": [
    {
     "data": {
      "text/plain": [
       "<AxesSubplot:xlabel='date'>"
      ]
     },
     "execution_count": 8,
     "metadata": {},
     "output_type": "execute_result"
    },
    {
     "data": {
      "image/png": "[encoded data removed]",
      "text/plain": [
       "<Figure size 432x288 with 1 Axes>"
      ]
     },
     "metadata": {
      "needs_background": "light"
     },
     "output_type": "display_data"
    }
   ],
   "source": [
    "df.plot(x='date', y = 'co')"
   ]
  },
  {
   "cell_type": "code",
   "execution_count": 9,
   "metadata": {},
   "outputs": [
    {
     "data": {
      "text/plain": [
       "<AxesSubplot:xlabel='date'>"
      ]
     },
     "execution_count": 9,
     "metadata": {},
     "output_type": "execute_result"
    },
    {
     "data": {
      "image/png": "[encoded data removed]",
      "text/plain": [
       "<Figure size 432x288 with 1 Axes>"
      ]
     },
     "metadata": {
      "needs_background": "light"
     },
     "output_type": "display_data"
    }
   ],
   "source": [
    "df.plot(x='date', y = 'no')"
   ]
  },
  {
   "cell_type": "code",
   "execution_count": 10,
   "metadata": {},
   "outputs": [
    {
     "data": {
      "text/plain": [
       "<AxesSubplot:xlabel='date'>"
      ]
     },
     "execution_count": 10,
     "metadata": {},
     "output_type": "execute_result"
    },
    {
     "data": {
      "image/png": "[encoded data removed]",
      "text/plain": [
       "<Figure size 432x288 with 1 Axes>"
      ]
     },
     "metadata": {
      "needs_background": "light"
     },
     "output_type": "display_data"
    }
   ],
   "source": [
    "df.plot(x='date', y = 'no2')"
   ]
  },
  {
   "cell_type": "code",
   "execution_count": 12,
   "metadata": {},
   "outputs": [
    {
     "data": {
      "text/plain": [
       "<AxesSubplot:xlabel='date'>"
      ]
     },
     "execution_count": 12,
     "metadata": {},
     "output_type": "execute_result"
    },
    {
     "data": {
      "image/png": "[encoded data removed]",
      "text/plain": [
       "<Figure size 432x288 with 1 Axes>"
      ]
     },
     "metadata": {
      "needs_background": "light"
     },
     "output_type": "display_data"
    }
   ],
   "source": [
    "df.plot(x='date', y = 'o3')"
   ]
  },
  {
   "cell_type": "code",
   "execution_count": 16,
   "metadata": {},
   "outputs": [
    {
     "data": {
      "text/html": [
       "<div>\n",
       "<style scoped>\n",
       "    .dataframe tbody tr th:only-of-type {\n",
       "        vertical-align: middle;\n",
       "    }\n",
       "\n",
       "    .dataframe tbody tr th {\n",
       "        vertical-align: top;\n",
       "    }\n",
       "\n",
       "    .dataframe thead th {\n",
       "        text-align: right;\n",
       "    }\n",
       "</style>\n",
       "<table border=\"1\" class=\"dataframe\">\n",
       "  <thead>\n",
       "    <tr style=\"text-align: right;\">\n",
       "      <th></th>\n",
       "      <th>date</th>\n",
       "      <th>co</th>\n",
       "      <th>no</th>\n",
       "      <th>no2</th>\n",
       "      <th>o3</th>\n",
       "      <th>so2</th>\n",
       "      <th>pm2_5</th>\n",
       "      <th>pm10</th>\n",
       "      <th>nh3</th>\n",
       "    </tr>\n",
       "  </thead>\n",
       "  <tbody>\n",
       "    <tr>\n",
       "      <th>4376</th>\n",
       "      <td>2021-05-27 09:00:00</td>\n",
       "      <td>2403.26</td>\n",
       "      <td>0.80</td>\n",
       "      <td>32.22</td>\n",
       "      <td>801.09</td>\n",
       "      <td>188.83</td>\n",
       "      <td>521.81</td>\n",
       "      <td>564.21</td>\n",
       "      <td>21.79</td>\n",
       "    </tr>\n",
       "    <tr>\n",
       "      <th>4377</th>\n",
       "      <td>2021-05-27 10:00:00</td>\n",
       "      <td>2376.56</td>\n",
       "      <td>0.75</td>\n",
       "      <td>36.33</td>\n",
       "      <td>789.64</td>\n",
       "      <td>177.38</td>\n",
       "      <td>501.19</td>\n",
       "      <td>544.94</td>\n",
       "      <td>22.80</td>\n",
       "    </tr>\n",
       "    <tr>\n",
       "      <th>4378</th>\n",
       "      <td>2021-05-27 11:00:00</td>\n",
       "      <td>2563.48</td>\n",
       "      <td>0.73</td>\n",
       "      <td>52.09</td>\n",
       "      <td>778.20</td>\n",
       "      <td>192.64</td>\n",
       "      <td>514.48</td>\n",
       "      <td>560.03</td>\n",
       "      <td>24.57</td>\n",
       "    </tr>\n",
       "    <tr>\n",
       "      <th>4375</th>\n",
       "      <td>2021-05-27 08:00:00</td>\n",
       "      <td>2483.37</td>\n",
       "      <td>0.96</td>\n",
       "      <td>33.24</td>\n",
       "      <td>766.75</td>\n",
       "      <td>196.46</td>\n",
       "      <td>518.81</td>\n",
       "      <td>559.86</td>\n",
       "      <td>20.77</td>\n",
       "    </tr>\n",
       "    <tr>\n",
       "      <th>4379</th>\n",
       "      <td>2021-05-27 12:00:00</td>\n",
       "      <td>2883.91</td>\n",
       "      <td>0.52</td>\n",
       "      <td>70.60</td>\n",
       "      <td>743.87</td>\n",
       "      <td>204.09</td>\n",
       "      <td>520.84</td>\n",
       "      <td>568.65</td>\n",
       "      <td>25.08</td>\n",
       "    </tr>\n",
       "  </tbody>\n",
       "</table>\n",
       "</div>"
      ],
      "text/plain": [
       "                     date       co    no    no2      o3     so2   pm2_5  \\\n",
       "4376  2021-05-27 09:00:00  2403.26  0.80  32.22  801.09  188.83  521.81   \n",
       "4377  2021-05-27 10:00:00  2376.56  0.75  36.33  789.64  177.38  501.19   \n",
       "4378  2021-05-27 11:00:00  2563.48  0.73  52.09  778.20  192.64  514.48   \n",
       "4375  2021-05-27 08:00:00  2483.37  0.96  33.24  766.75  196.46  518.81   \n",
       "4379  2021-05-27 12:00:00  2883.91  0.52  70.60  743.87  204.09  520.84   \n",
       "\n",
       "        pm10    nh3  \n",
       "4376  564.21  21.79  \n",
       "4377  544.94  22.80  \n",
       "4378  560.03  24.57  \n",
       "4375  559.86  20.77  \n",
       "4379  568.65  25.08  "
      ]
     },
     "execution_count": 16,
     "metadata": {},
     "output_type": "execute_result"
    }
   ],
   "source": [
    "df.nlargest(5, columns=['o3'])"
   ]
  },
  {
   "cell_type": "code",
   "execution_count": 18,
   "metadata": {},
   "outputs": [
    {
     "data": {
      "text/plain": [
       "date     0\n",
       "co       0\n",
       "no       0\n",
       "no2      0\n",
       "o3       0\n",
       "so2      0\n",
       "pm2_5    0\n",
       "pm10     0\n",
       "nh3      0\n",
       "dtype: int64"
      ]
     },
     "execution_count": 18,
     "metadata": {},
     "output_type": "execute_result"
    }
   ],
   "source": [
    "df.isna().sum()"
   ]
  },
  {
   "cell_type": "code",
   "execution_count": 19,
   "metadata": {},
   "outputs": [
    {
     "data": {
      "text/plain": [
       "<bound method DataFrame.info of                       date       co     no     no2     o3     so2   pm2_5  \\\n",
       "0      2020-11-25 01:00:00  2616.88   2.18   70.60  13.59   38.62  364.61   \n",
       "1      2020-11-25 02:00:00  3631.59  23.25   89.11   0.33   54.36  420.96   \n",
       "2      2020-11-25 03:00:00  4539.49  52.75  100.08   1.11   68.67  463.68   \n",
       "3      2020-11-25 04:00:00  4539.49  50.96  111.04   6.44   78.20  454.81   \n",
       "4      2020-11-25 05:00:00  4379.27  42.92  117.90  17.17   87.74  448.14   \n",
       "...                    ...      ...    ...     ...    ...     ...     ...   \n",
       "18771  2023-01-24 04:00:00  1762.39   4.64   37.01  33.26   30.52  231.15   \n",
       "18772  2023-01-24 05:00:00  1735.69   6.82   34.96  46.49   34.33  225.08   \n",
       "18773  2023-01-24 06:00:00  1922.61   8.16   40.10  56.51   43.39  242.49   \n",
       "18774  2023-01-24 07:00:00  1361.85   9.05   52.78  71.53  100.14  165.67   \n",
       "18775  2023-01-24 08:00:00  1134.87   8.61   56.89  80.11  110.63  123.76   \n",
       "\n",
       "         pm10    nh3  \n",
       "0      411.73  28.63  \n",
       "1      486.21  41.04  \n",
       "2      541.95  49.14  \n",
       "3      534.00  48.13  \n",
       "4      529.19  46.61  \n",
       "...       ...    ...  \n",
       "18771  289.84   6.27  \n",
       "18772  280.52   9.12  \n",
       "18773  296.07  12.54  \n",
       "18774  191.82   7.47  \n",
       "18775  140.26   5.51  \n",
       "\n",
       "[18776 rows x 9 columns]>"
      ]
     },
     "execution_count": 19,
     "metadata": {},
     "output_type": "execute_result"
    }
   ],
   "source": [
    "df.info"
   ]
  },
  {
   "cell_type": "code",
   "execution_count": 20,
   "metadata": {},
   "outputs": [
    {
     "data": {
      "text/plain": [
       "date      object\n",
       "co       float64\n",
       "no       float64\n",
       "no2      float64\n",
       "o3       float64\n",
       "so2      float64\n",
       "pm2_5    float64\n",
       "pm10     float64\n",
       "nh3      float64\n",
       "dtype: object"
      ]
     },
     "execution_count": 20,
     "metadata": {},
     "output_type": "execute_result"
    }
   ],
   "source": [
    "df.dtypes"
   ]
  },
  {
   "cell_type": "code",
   "execution_count": 26,
   "metadata": {},
   "outputs": [
    {
     "data": {
      "text/plain": [
       "LinearRegression()"
      ]
     },
     "execution_count": 26,
     "metadata": {},
     "output_type": "execute_result"
    }
   ],
   "source": [
    "reg = linear_model.LinearRegression()\n",
    "#reg.fit(x,y) #target variable will be nh3\n",
    "reg.fit(df[['co', 'no', 'no2']], df.nh3)"
   ]
  },
  {
   "cell_type": "code",
   "execution_count": 28,
   "metadata": {},
   "outputs": [
    {
     "data": {
      "text/plain": [
       "array([0.0008817 , 0.17096652, 0.2291499 ])"
      ]
     },
     "execution_count": 28,
     "metadata": {},
     "output_type": "execute_result"
    }
   ],
   "source": [
    "#Take a look at the coefficients - expect all positive correlation\n",
    "reg.coef_"
   ]
  },
  {
   "cell_type": "code",
   "execution_count": 29,
   "metadata": {},
   "outputs": [
    {
     "data": {
      "text/plain": [
       "1.5976602630414547"
      ]
     },
     "execution_count": 29,
     "metadata": {},
     "output_type": "execute_result"
    }
   ],
   "source": [
    "#Take a look at the intercept\n",
    "reg.intercept_"
   ]
  },
  {
   "cell_type": "code",
   "execution_count": null,
   "metadata": {},
   "outputs": [],
   "source": []
  }
 ],
 "metadata": {
  "kernelspec": {
   "display_name": "base",
   "language": "python",
   "name": "python3"
  },
  "language_info": {
   "codemirror_mode": {
    "name": "ipython",
    "version": 3
   },
   "file_extension": ".py",
   "mimetype": "text/x-python",
   "name": "python",
   "nbconvert_exporter": "python",
   "pygments_lexer": "ipython3",
   "version": "3.8.5"
  },
  "orig_nbformat": 4,
  "vscode": {
   "interpreter": {
    "hash": "9f3898b23b7a6e90e0f58791ca25d398771efd3c65d9464e06b7f562b51615dc"
   }
  }
 },
 "nbformat": 4,
 "nbformat_minor": 2
}
